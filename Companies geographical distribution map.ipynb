{
 "cells": [
  {
   "cell_type": "markdown",
   "metadata": {},
   "source": [
    "## Industry distribution map\n",
    "<h3>This note book would take an industry name as input, generate a company map of chosen industry in the US.</h3>\n",
    "<h3>Industry name as listed in Yahoo finance: https://biz.yahoo.com/p/sum_conameu.html </h3>\n",
    "<h3>Copyright © Kevin Wang 2017. All Rights Reserved.</h3>\n",
    "<h3>Contac</h3>"
   ]
  },
  {
   "cell_type": "code",
   "execution_count": null,
   "metadata": {
    "collapsed": true
   },
   "outputs": [],
   "source": [
    "!pip install gmplot\n",
    "!pip install folium"
   ]
  },
  {
   "cell_type": "code",
   "execution_count": 1,
   "metadata": {
    "collapsed": false
   },
   "outputs": [],
   "source": [
    "import requests  \n",
    "from lxml import html  \n",
    "import re  \n",
    "import pandas as pd\n",
    "from bs4 import BeautifulSoup\n",
    "import httplib2\n",
    "from bs4 import SoupStrainer\n",
    "import folium"
   ]
  },
  {
   "cell_type": "code",
   "execution_count": 2,
   "metadata": {
    "collapsed": true
   },
   "outputs": [],
   "source": [
    "def get_location(symbol):\n",
    "    output=[]\n",
    "    url='https://www.google.com/finance?q='+str(symbol)\n",
    "    response = requests.get(url)\n",
    "    page_data_soup = BeautifulSoup(response.content,'lxml')\n",
    "    links=[]\n",
    "    possible_links = page_data_soup.find_all('a')\n",
    "    for link in possible_links:\n",
    "        if link.has_attr('href'):\n",
    "            links.append(link.attrs['href'])\n",
    "    for i in range(len(links)):\n",
    "        if links[i][7:10]=='map':\n",
    "            output.append(links[i])        \n",
    "    a=output\n",
    "    address=a[0][a[0].find(\"&\")+3:a[0].find(\"%\")]\n",
    "    url=\"https://maps.googleapis.com/maps/api/geocode/json?address=%s\" % (address)\n",
    "    response = requests.get(url)\n",
    "    json_data = response.json()\n",
    "    lat=json_data['results'][0]['geometry']['location']['lat']\n",
    "    lng=json_data['results'][0]['geometry']['location']['lng']\n",
    "    return [lat,lng]"
   ]
  },
  {
   "cell_type": "code",
   "execution_count": 3,
   "metadata": {
    "collapsed": true
   },
   "outputs": [],
   "source": [
    "def company_description(symbol):\n",
    "    url='https://www.google.com/finance?q='+str(symbol)\n",
    "    response = requests.get(url)\n",
    "    try:\n",
    "        page_data_soup = BeautifulSoup(response.content,'lxml')\n",
    "        summary=page_data_soup.find('div',{'class':\"companySummary\"})\n",
    "        content=summary.text[1:summary.text.rfind(\".\")]\n",
    "        return content\n",
    "    except:\n",
    "        return \"Can not find this company description!\""
   ]
  },
  {
   "cell_type": "code",
   "execution_count": 4,
   "metadata": {
    "collapsed": true
   },
   "outputs": [],
   "source": [
    "def sector_symbols(sector_name):\n",
    "    http = httplib2.Http()\n",
    "    status,response = http.request('https://biz.yahoo.com/p/sum_conameu.html')\n",
    "    links=[]\n",
    "    for link in BeautifulSoup(response, parseOnlyThese=SoupStrainer(['a','href'])):\n",
    "        links.append(link)\n",
    "    link_list=[]\n",
    "    for link in links:\n",
    "        a=link\n",
    "        b=str(a)\n",
    "        c=b[b.find(\"href=\")+6:b.find(\"href=\")+21]\n",
    "        if 48<=ord(c[0])<=57:\n",
    "            link_list.append(b[b.find(\"href=\")+6:b.find(\"href=\")+21])\n",
    "\n",
    "    table_secotrs=pd.read_html(\"https://biz.yahoo.com/p/sum_conameu.html\")\n",
    "    sectors_name=table_secotrs[2][0][2:]\n",
    "    sectors_name.index=range(len(sectors_name))\n",
    "\n",
    "    for k in range(len(sectors_name)):\n",
    "        if sectors_name[k]==sector_name:\n",
    "            link=\"https://biz.yahoo.com/p/\"+link_list[k]\n",
    "            tables=pd.read_html(link)\n",
    "            symbol_list=[]\n",
    "            for thing in tables[2][0][5:]:\n",
    "                symbol=thing[thing.find(\"(\")+1:thing.find(\")\")]\n",
    "                left=thing[thing.find(\")\")+1:]\n",
    "                if left.find(\"(\") == -1:\n",
    "                    if symbol.find(\".\")<0:\n",
    "                        symbol_list.append(symbol)\n",
    "                else:\n",
    "                    symbol=left[left.find(\"(\")+1:left.find(\")\")]\n",
    "                    if symbol.find(\".\")<0:\n",
    "                        symbol_list.append(symbol)\n",
    "    return symbol_list"
   ]
  },
  {
   "cell_type": "code",
   "execution_count": 7,
   "metadata": {
    "collapsed": false
   },
   "outputs": [],
   "source": [
    "def map(sectorname):  \n",
    "    symbols=sector_symbols(sectorname)\n",
    "    latitudes=[]\n",
    "    longitudes=[]\n",
    "    symbol_show=[]\n",
    "    for thing in symbols:\n",
    "        try:\n",
    "            per=get_location(thing)\n",
    "            latitudes.append(per[0])\n",
    "            longitudes.append(per[1])\n",
    "            symbol_show.append(company_description(thing))\n",
    "        except:\n",
    "            continue\n",
    "    map_1 = folium.Map(location=[40, -99], zoom_start=4)\n",
    "    map_2 = folium.Map(location=[40, -99], tiles='Stamen Terrain',zoom_start=4)\n",
    "    for i in range(len(symbol_show)):\n",
    "        folium.Marker([latitudes[i], longitudes[i]], popup=symbol_show[i]).add_to(map_1)\n",
    "    map_1.save('Health Care Plans.html')\n",
    "    print(\"Map drawed! Named sector.html. Please look your file\")"
   ]
  },
  {
   "cell_type": "code",
   "execution_count": 9,
   "metadata": {
    "collapsed": false
   },
   "outputs": [
    {
     "name": "stderr",
     "output_type": "stream",
     "text": [
      "/Users/yaolinwang/anaconda/lib/python3.5/site-packages/bs4/__init__.py:133: UserWarning: The \"parseOnlyThese\" argument to the BeautifulSoup constructor has been renamed to \"parse_only.\"\n",
      "  'has been renamed to \"%s.\"' % (old_name, new_name))\n",
      "/Users/yaolinwang/anaconda/lib/python3.5/site-packages/bs4/__init__.py:181: UserWarning: No parser was explicitly specified, so I'm using the best available HTML parser for this system (\"lxml\"). This usually isn't a problem, but if you run this code on another system, or in a different virtual environment, it may use a different parser and behave differently.\n",
      "\n",
      "The code that caused this warning is on line 184 of the file /Users/yaolinwang/anaconda/lib/python3.5/runpy.py. To get rid of this warning, change code that looks like this:\n",
      "\n",
      " BeautifulSoup([your markup])\n",
      "\n",
      "to this:\n",
      "\n",
      " BeautifulSoup([your markup], \"lxml\")\n",
      "\n",
      "  markup_type=markup_type))\n"
     ]
    },
    {
     "name": "stdout",
     "output_type": "stream",
     "text": [
      "Map drawed! Named sector.html. Please look your file\n"
     ]
    }
   ],
   "source": [
    "map('Health Care Plans')"
   ]
  },
  {
   "cell_type": "code",
   "execution_count": null,
   "metadata": {
    "collapsed": true
   },
   "outputs": [],
   "source": [
    "industry sample:\n",
    "    \n",
    "Diagnostic Substances\n",
    "Diversified Electronics\n",
    "Health Care Plans"
   ]
  }
 ],
 "metadata": {
  "anaconda-cloud": {},
  "kernelspec": {
   "display_name": "Python [default]",
   "language": "python",
   "name": "python3"
  },
  "language_info": {
   "codemirror_mode": {
    "name": "ipython",
    "version": 3
   },
   "file_extension": ".py",
   "mimetype": "text/x-python",
   "name": "python",
   "nbconvert_exporter": "python",
   "pygments_lexer": "ipython3",
   "version": "3.5.2"
  }
 },
 "nbformat": 4,
 "nbformat_minor": 1
}
